{
  "cells": [
    {
      "cell_type": "markdown",
      "metadata": {
        "id": "nyDUaSAsbDnu"
      },
      "source": [
        "## Exercício de Aprofundamento - Trilha 1"
      ]
    },
    {
      "cell_type": "markdown",
      "metadata": {
        "id": "FDT0TyYybDn1"
      },
      "source": [
        "Análise Pelican Store"
      ]
    },
    {
      "cell_type": "markdown",
      "metadata": {
        "id": "GJhqp5-_bDn3"
      },
      "source": [
        "## Atividade"
      ]
    },
    {
      "cell_type": "markdown",
      "metadata": {
        "id": "mXeLBZ3nbDn4"
      },
      "source": [
        "A Pelican Stores, uma divisão da National Clothing, é uma cadeia de lojas de roupas femininas que opera em todos os Estados Unidos. Recentemente, a cadeia realizou uma promoção na qual cupons de desconto foram enviados aos clientes de outras lojas da National Clothing. Dados coletados para uma amostra de 100 transações de cartões de crédito nas lojas Pelican Stores durante um dia, durante a promoção, estão no arquivo PelicanStores.csv. A Tabela abaixo mostra uma parte do conjunto de dados. O método de pagamento chamado \"Cartão Proprietário\" se refere a cobranças feitas utilizando um cartão de crédito da National Clothing. Os clientes que fizeram uma compra utilizando um cupom de descontos são denominados clientes promocionais e os clientes que fizeram uma compra sem utilizar um cupom de desconto são chamados clientes regulares. Como os cupons promocionais não foram enviados aos clientes Pelican Stores regulares, a administração considera as negociações feitas para pessoas apresentando cupons promocionais como vendas que, de outro modo, não teriam sido efetuadas. Naturalmente, a Pelican também espera que os clientes promocionais continuem a comprar em suas lojas."
      ]
    },
    {
      "cell_type": "markdown",
      "metadata": {},
      "source": [
        "<!-- [![Foo](../assets/img_1.png)] -->\n",
        "[![Foo](https://raw.githubusercontent.com/joaonart/mcz-m3-t1-anl-estatistica/master/assets/img_1.png)]"
      ]
    },
    {
      "cell_type": "markdown",
      "metadata": {},
      "source": [
        "A maioria das variáveis mostradas na tabela acima são autoexplicativas, mas duas das variáveis exigem algum esclarecimento.\n",
        "\n",
        "A Itens \\-- O número total de itens comprados\n",
        "\n",
        "B Vendas líquidas \\-- A quantia total (\\$) cobrada pelo cartão de crédito\n",
        "\n",
        "A administração da Pelican gostaria de utilizar esses dados amostrais para aprender a respeito do perfil de seus clientes e avaliar a promoção envolvendo cupons de desconto.\n",
        "\n",
        "Mas antes de obter estas informações, o analista precisa construir um dicionário de dados, indicando para cada variável (em um formato de tabela, com estas colunas):\n",
        "\n",
        "a Nome da Variável\n",
        "\n",
        "b Descrição da Variável \\-- o que ela mede/significa\n",
        "\n",
        "c Tipo da Variável (quantitativa, qualitativa, discreta, contínua)\n",
        "\n",
        "d Tipo de Mensuração da Variável (nominal, ordinal, intervalar ou racional)\n",
        "\n",
        "e Valores possíveis da variável.\n",
        "\n",
        "Depois de construído o dicionário de dados, determine as medidas de posição e variabilidade para as variáveis apropriadas. Para isso, utilize o conjunto de dados completo, fornecido no arquivo PelicanStores.csv"
      ]
    },
    {
      "cell_type": "markdown",
      "metadata": {},
      "source": [
        "## Resultado Esperado"
      ]
    },
    {
      "cell_type": "markdown",
      "metadata": {},
      "source": [
        "### Dicionário de Dados"
      ]
    },
    {
      "cell_type": "markdown",
      "metadata": {},
      "source": [
        "É necessário criar este dicionário para todas as variáveis do Dataset Pelican. Preencha cada elemento, de acordo com o modelo da tabela abaixo."
      ]
    },
    {
      "cell_type": "markdown",
      "metadata": {},
      "source": [
        "<!-- [![Foo](../assets/img_2.png)] -->\n",
        "[![Foo](https://raw.githubusercontent.com/joaonart/mcz-m3-t1-anl-estatistica/master/assets/img_2.png)]"
      ]
    },
    {
      "cell_type": "code",
      "execution_count": null,
      "metadata": {
        "vscode": {
          "languageId": "r"
        }
      },
      "outputs": [],
      "source": [
        "# Instala as bibliotecas necessárias\n",
        "\n",
        "install.packages(\"dplyr\")\n",
        "install.packages(\"knitr\")\n",
        "install.packages(\"tidyr\")\n",
        "install.packages(\"readr\")"
      ]
    },
    {
      "cell_type": "code",
      "execution_count": null,
      "metadata": {
        "vscode": {
          "languageId": "r"
        }
      },
      "outputs": [],
      "source": [
        "# Importa as bibliotecas para uso no projeto\n",
        "\n",
        "library(dplyr)\n",
        "library(knitr)\n",
        "library(tidyr)\n",
        "library(readr)"
      ]
    },
    {
      "cell_type": "code",
      "execution_count": null,
      "metadata": {
        "vscode": {
          "languageId": "r"
        }
      },
      "outputs": [],
      "source": [
        "# Leitura do arquivo com dados da Pelican Store\n",
        "\n",
        "#pelicanstores <- read_csv(\"../data/PelicanStores.csv\")\n",
        "pelicanstores <- read_csv(\"https://raw.githubusercontent.com/joaonart/mcz-m3-t1-anl-estatistica/master/data/PelicanStores.csv\")"
      ]
    },
    {
      "cell_type": "code",
      "execution_count": null,
      "metadata": {
        "vscode": {
          "languageId": "r"
        }
      },
      "outputs": [],
      "source": [
        "# Funcão responsável por gerar a linha com os valores possiveis para cada variável\n",
        "\n",
        "unique_values <- function(data){\n",
        "  data_names <- data.frame(variable = names(data))\n",
        "  data_base <- c()\n",
        "  for(i in 1:nrow(data_names)) {\n",
        "    valores <- paste( unlist(c(unique(pelicanstores[c(data_names[i,])]))), collapse=\", \" )\n",
        "    data_base <- append(data_base, valores)\n",
        "  }\n",
        "  return(data_base)\n",
        "}"
      ]
    },
    {
      "cell_type": "code",
      "execution_count": null,
      "metadata": {
        "vscode": {
          "languageId": "r"
        }
      },
      "outputs": [],
      "source": [
        "# Cria a primeira versão do dicionário de dados\n",
        "\n",
        "nome_variavel <- names(pelicanstores)\n",
        "descricao <- c(\"ID do cliente\", \n",
        "               \"Tipo de cliente\", \n",
        "               \"O número total de itens comprados\", \n",
        "               \"A quantia total ($) cobrada pelo cartão de crédito\", \n",
        "               \"Método de pagamento utilizado na compra\", \n",
        "               \"Genêro do cliente\", \n",
        "               \"Estado civil do cliente\", \n",
        "               \"Idade do cliente\")\n",
        "tipo_variavel <- c(\"Qualitativa\", \n",
        "                     \"Qualitativa\", \n",
        "                     \"Quantitativa\", \n",
        "                     \"Quantitativa\", \n",
        "                     \"Qualitativa\", \n",
        "                     \"Qualitativa\", \n",
        "                     \"Qualitativa\", \n",
        "                     \"Quantitativa\")\n",
        "tipo_mensuracao <- c(\"Ordinal\", \n",
        "                     \"Nominal\", \n",
        "                     \"Discreta\", \n",
        "                     \"Contínua\", \n",
        "                     \"Nominal\", \n",
        "                     \"Nominal\", \n",
        "                     \"Nominal\", \n",
        "                     \"Discreta\")\n",
        "valores_possiveis <- unique_values(pelicanstores)\n",
        "\n",
        "df_dict <- data.frame(nome_variavel, descricao, tipo_variavel, tipo_mensuracao, valores_possiveis,row.names = NULL)\n",
        "\n",
        "colnames(df_dict) <- c(\"Nome da Variável\", \n",
        "                       \"Descrição\", \n",
        "                       \"Tipo de Variável\",\n",
        "                       \"Tipo de Mensuração\", \n",
        "                       \"Valores Possíveis\")\n",
        "df_dict"
      ]
    },
    {
      "cell_type": "markdown",
      "metadata": {},
      "source": [
        "### Estatística Descritiva"
      ]
    },
    {
      "cell_type": "markdown",
      "metadata": {},
      "source": [
        "É necessário apresentar as Medidas de Posição (média, mediana) e Variabilidade (desvio padrão e variância) das variáveis numéricas: Itens, Vendas Líquidas e Idade.\n",
        "\n",
        "Moda – O R não tem uma função para o cálculo da moda, então criamos uma função específica para isso, lembrando que a moda se aplica a variáveis numéricas discretas e variáveis categóricas. Para variáveis contínuas não faz sentido o cálculo da moda, já que tais variáveis podem assumir quaisquer valores no conjunto dos números reais."
      ]
    },
    {
      "cell_type": "markdown",
      "metadata": {},
      "source": [
        "<!-- [![Foo](../assets/img_3.png)] -->\n",
        "[![Foo](https://raw.githubusercontent.com/joaonart/mcz-m3-t1-anl-estatistica/master/assets/img_1.png)]"
      ]
    },
    {
      "cell_type": "markdown",
      "metadata": {},
      "source": [
        "Moda para as variáveis categóricas, explicitamente, utilizando nossa função definida acima."
      ]
    },
    {
      "cell_type": "code",
      "execution_count": null,
      "metadata": {
        "vscode": {
          "languageId": "r"
        }
      },
      "outputs": [],
      "source": [
        "# Cria o data frame com os dados de média, mediana, desvio padrão e variância\n",
        "\n",
        "df_medias <- data.frame(variaveis = c(\"Itens\", \"Vendas líquidas\", \"Idade\"), Média = apply(pelicanstores[,c(\"Itens\", \"Vendas líquidas\", \"Idade\")], 2, mean))\n",
        "df_medianas <- data.frame(variaveis = c(\"Itens\", \"Vendas líquidas\", \"Idade\"), Mediana = apply(pelicanstores[,c(\"Itens\", \"Vendas líquidas\", \"Idade\")], 2, median))\n",
        "df_sd <- data.frame(variaveis = c(\"Itens\", \"Vendas líquidas\", \"Idade\"), DesvPadrao = apply(pelicanstores[,c(\"Itens\", \"Vendas líquidas\", \"Idade\")], 2, sd))\n",
        "df_var <- data.frame(variaveis = c(\"Itens\", \"Vendas líquidas\", \"Idade\"), Variancia = apply(pelicanstores[,c(\"Itens\", \"Vendas líquidas\", \"Idade\")], 2, var))\n",
        "\n",
        "df_1 <- left_join(df_medias,df_medianas, by =\"variaveis\")\n",
        "df_2 <- left_join(df_1, df_sd, by = \"variaveis\")\n",
        "df_3 <- left_join(df_2, df_var, by = \"variaveis\")\n",
        "\n",
        "df_3"
      ]
    },
    {
      "cell_type": "code",
      "execution_count": null,
      "metadata": {
        "vscode": {
          "languageId": "r"
        }
      },
      "outputs": [],
      "source": [
        "# Função responsável por identificar a moda\n",
        "\n",
        "getmode <- function(v) {\n",
        "  uniqv <- unique(v)\n",
        "  uniqv[which.max(tabulate(match(v, uniqv)))]\n",
        "}"
      ]
    },
    {
      "cell_type": "code",
      "execution_count": null,
      "metadata": {
        "vscode": {
          "languageId": "r"
        }
      },
      "outputs": [],
      "source": [
        "{r}\n",
        "# Cria o data frame com os dados de moda\n",
        "\n",
        "table(pelicanstores[, \"Tipo de Cliente\"])\n",
        "table(pelicanstores[, \"Método de Pagamento\"])\n",
        "table(pelicanstores[, \"Gênero\"])\n",
        "table(pelicanstores[, \"Estado Civil\"])\n",
        "\n",
        "df_modacat <- data.frame(variaveis = c(\"Tipo de Cliente\", \"Método de Pagamento\", \"Gênero\", \"Estado Civil\"), Moda = apply(pelicanstores[,c(\"Tipo de Cliente\", \"Método de Pagamento\", \"Gênero\", \"Estado Civil\")], 2, getmode), row.names = NULL)\n",
        "\n",
        "df_3\n",
        "df_modacat"
      ]
    },
    {
      "cell_type": "code",
      "execution_count": null,
      "metadata": {
        "vscode": {
          "languageId": "r"
        }
      },
      "outputs": [],
      "source": [
        "# Cria a versão final do dicionário de dados, fazendo a junção dos três data frames\n",
        "\n",
        "colnames(df_3) <- c(\"Nome da Variável\", \n",
        "                       \"Média\", \n",
        "                       \"Mediana\",\n",
        "                       \"DesvPadrao\", \n",
        "                       \"Variancia\")\n",
        "\n",
        "colnames(df_modacat) <- c(\"Nome da Variável\", \n",
        "                       \"Moda\")\n",
        "\n",
        "df_dict_final <- left_join(df_dict,df_3, by =\"Nome da Variável\")\n",
        "df_dict_final <- left_join(df_dict_final,df_modacat, by =\"Nome da Variável\")\n",
        "df_dict_final"
      ]
    }
  ],
  "metadata": {
    "colab": {
      "name": "Trilha1_ExercicioAprofundamento.ipynb",
      "provenance": []
    },
    "kernelspec": {
      "display_name": "R",
      "language": "R",
      "name": "ir"
    },
    "language_info": {
      "codemirror_mode": "r",
      "file_extension": ".r",
      "mimetype": "text/x-r-source",
      "name": "R",
      "pygments_lexer": "r",
      "version": "4.1.2"
    }
  },
  "nbformat": 4,
  "nbformat_minor": 0
}
