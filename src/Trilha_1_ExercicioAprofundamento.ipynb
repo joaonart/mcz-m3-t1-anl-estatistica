{
  "cells": [
    {
      "cell_type": "markdown",
      "metadata": {
        "id": "nyDUaSAsbDnu"
      },
      "source": [
        "## Exercício de Aprofundamento - Trilha 1"
      ]
    },
    {
      "cell_type": "markdown",
      "metadata": {
        "id": "FDT0TyYybDn1"
      },
      "source": [
        "Análise Pelican Store"
      ]
    },
    {
      "cell_type": "markdown",
      "metadata": {
        "id": "GJhqp5-_bDn3"
      },
      "source": [
        "## Atividade"
      ]
    },
    {
      "cell_type": "markdown",
      "metadata": {
        "id": "mXeLBZ3nbDn4"
      },
      "source": [
        "A Pelican Stores, uma divisão da National Clothing, é uma cadeia de lojas de roupas femininas que opera em todos os Estados Unidos. Recentemente, a cadeia realizou uma promoção na qual cupons de desconto foram enviados aos clientes de outras lojas da National Clothing. Dados coletados para uma amostra de 100 transações de cartões de crédito nas lojas Pelican Stores durante um dia, durante a promoção, estão no arquivo PelicanStores.csv. A Tabela abaixo mostra uma parte do conjunto de dados. O método de pagamento chamado \"Cartão Proprietário\" se refere a cobranças feitas utilizando um cartão de crédito da National Clothing. Os clientes que fizeram uma compra utilizando um cupom de descontos são denominados clientes promocionais e os clientes que fizeram uma compra sem utilizar um cupom de desconto são chamados clientes regulares. Como os cupons promocionais não foram enviados aos clientes Pelican Stores regulares, a administração considera as negociações feitas para pessoas apresentando cupons promocionais como vendas que, de outro modo, não teriam sido efetuadas. Naturalmente, a Pelican também espera que os clientes promocionais continuem a comprar em suas lojas."
      ]
    },
    {
      "cell_type": "markdown",
      "metadata": {},
      "source": [
        "[![Foo](../assets/img_1.png)]"
      ]
    },
    {
      "cell_type": "markdown",
      "metadata": {},
      "source": [
        "A maioria das variáveis mostradas na tabela acima são autoexplicativas, mas duas das variáveis exigem algum esclarecimento.\n",
        "\n",
        "A Itens \\-- O número total de itens comprados\n",
        "\n",
        "B Vendas líquidas \\-- A quantia total (\\$) cobrada pelo cartão de crédito\n",
        "\n",
        "A administração da Pelican gostaria de utilizar esses dados amostrais para aprender a respeito do perfil de seus clientes e avaliar a promoção envolvendo cupons de desconto.\n",
        "\n",
        "Mas antes de obter estas informações, o analista precisa construir um dicionário de dados, indicando para cada variável (em um formato de tabela, com estas colunas):\n",
        "\n",
        "a Nome da Variável\n",
        "\n",
        "b Descrição da Variável \\-- o que ela mede/significa\n",
        "\n",
        "c Tipo da Variável (quantitativa, qualitativa, discreta, contínua)\n",
        "\n",
        "d Tipo de Mensuração da Variável (nominal, ordinal, intervalar ou racional)\n",
        "\n",
        "e Valores possíveis da variável.\n",
        "\n",
        "Depois de construído o dicionário de dados, determine as medidas de posição e variabilidade para as variáveis apropriadas. Para isso, utilize o conjunto de dados completo, fornecido no arquivo PelicanStores.csv"
      ]
    },
    {
      "cell_type": "markdown",
      "metadata": {},
      "source": [
        "## Resultado Esperado"
      ]
    },
    {
      "cell_type": "markdown",
      "metadata": {},
      "source": [
        "### Dicionário de Dados"
      ]
    },
    {
      "cell_type": "markdown",
      "metadata": {},
      "source": [
        "É necessário criar este dicionário para todas as variáveis do Dataset Pelican. Preencha cada elemento, de acordo com o modelo da tabela abaixo."
      ]
    },
    {
      "cell_type": "markdown",
      "metadata": {},
      "source": [
        "[![Foo](../assets/img_2.png)]"
      ]
    },
    {
      "cell_type": "code",
      "execution_count": 1,
      "metadata": {
        "vscode": {
          "languageId": "r"
        }
      },
      "outputs": [
        {
          "name": "stderr",
          "output_type": "stream",
          "text": [
            "also installing the dependency 'vctrs'\n",
            "\n",
            "\n",
            "Warning message in install.packages(\"dplyr\"):\n",
            "\"installation of package 'vctrs' had non-zero exit status\"\n",
            "Warning message in install.packages(\"dplyr\"):\n",
            "\"installation of package 'dplyr' had non-zero exit status\"\n",
            "Updating HTML index of packages in '.Library'\n",
            "\n",
            "Making 'packages.html' ...\n",
            " done\n",
            "\n",
            "Updating HTML index of packages in '.Library'\n",
            "\n",
            "Making 'packages.html' ...\n",
            " done\n",
            "\n",
            "Warning message in install.packages(\"tidyr\"):\n",
            "\"installation of package 'tidyr' had non-zero exit status\"\n",
            "Updating HTML index of packages in '.Library'\n",
            "\n",
            "Making 'packages.html' ...\n",
            " done\n",
            "\n",
            "Warning message in install.packages(\"readr\"):\n",
            "\"installation of package 'readr' had non-zero exit status\"\n",
            "Updating HTML index of packages in '.Library'\n",
            "\n",
            "Making 'packages.html' ...\n",
            " done\n",
            "\n"
          ]
        }
      ],
      "source": [
        "# Instala as bibliotecas necessárias\n",
        "\n",
        "install.packages(\"dplyr\")\n",
        "install.packages(\"knitr\")\n",
        "install.packages(\"tidyr\")\n",
        "install.packages(\"readr\")"
      ]
    },
    {
      "cell_type": "code",
      "execution_count": 2,
      "metadata": {
        "vscode": {
          "languageId": "r"
        }
      },
      "outputs": [
        {
          "name": "stderr",
          "output_type": "stream",
          "text": [
            "\n",
            "Attaching package: 'dplyr'\n",
            "\n",
            "\n",
            "The following objects are masked from 'package:stats':\n",
            "\n",
            "    filter, lag\n",
            "\n",
            "\n",
            "The following objects are masked from 'package:base':\n",
            "\n",
            "    intersect, setdiff, setequal, union\n",
            "\n",
            "\n"
          ]
        }
      ],
      "source": [
        "# Importa as bibliotecas para uso no projeto\n",
        "\n",
        "library(dplyr)\n",
        "library(knitr)\n",
        "library(tidyr)\n",
        "library(readr)"
      ]
    },
    {
      "cell_type": "code",
      "execution_count": 8,
      "metadata": {
        "vscode": {
          "languageId": "r"
        }
      },
      "outputs": [
        {
          "name": "stderr",
          "output_type": "stream",
          "text": [
            "\u001b[1mRows: \u001b[22m\u001b[34m100\u001b[39m \u001b[1mColumns: \u001b[22m\u001b[34m8\u001b[39m\n",
            "\u001b[36m--\u001b[39m \u001b[1mColumn specification\u001b[22m \u001b[36m--------------------------------------------------------\u001b[39m\n",
            "\u001b[1mDelimiter:\u001b[22m \",\"\n",
            "\u001b[31mchr\u001b[39m (4): Tipo de Cliente, Método de Pagamento, Gênero, Estado Civil\n",
            "\u001b[32mdbl\u001b[39m (3): Cliente, Itens, Idade\n",
            "\n",
            "\u001b[36mi\u001b[39m Use `spec()` to retrieve the full column specification for this data.\n",
            "\u001b[36mi\u001b[39m Specify the column types or set `show_col_types = FALSE` to quiet this message.\n"
          ]
        }
      ],
      "source": [
        "# Leitura do arquivo com dados da Pelican Store\n",
        "\n",
        "pelicanstores <- read_csv(\"../data/PelicanStores.csv\")"
      ]
    },
    {
      "cell_type": "code",
      "execution_count": 9,
      "metadata": {
        "vscode": {
          "languageId": "r"
        }
      },
      "outputs": [],
      "source": [
        "# Funcão responsável por gerar a linha com os valores possiveis para cada variável\n",
        "\n",
        "unique_values <- function(data){\n",
        "  data_names <- data.frame(variable = names(data))\n",
        "  data_base <- c()\n",
        "  for(i in 1:nrow(data_names)) {\n",
        "    valores <- paste( unlist(c(unique(pelicanstores[c(data_names[i,])]))), collapse=\", \" )\n",
        "    data_base <- append(data_base, valores)\n",
        "  }\n",
        "  return(data_base)\n",
        "}"
      ]
    },
    {
      "cell_type": "code",
      "execution_count": 15,
      "metadata": {
        "vscode": {
          "languageId": "r"
        }
      },
      "outputs": [
        {
          "data": {
            "text/html": [
              "<table class=\"dataframe\">\n",
              "<caption>A data.frame: 8 × 5</caption>\n",
              "<thead>\n",
              "\t<tr><th scope=col>Nome da Vari&lt;U+00E1&gt;vel</th><th scope=col>Descri&lt;U+00E7&gt;&lt;U+00E3&gt;o</th><th scope=col>Tipo de Vari&lt;U+00E1&gt;vel</th><th scope=col>Tipo de Mensura&lt;U+00E7&gt;&lt;U+00E3&gt;o</th><th scope=col>Valores Poss&lt;U+00ED&gt;veis</th></tr>\n",
              "\t<tr><th scope=col>&lt;chr&gt;</th><th scope=col>&lt;chr&gt;</th><th scope=col>&lt;chr&gt;</th><th scope=col>&lt;chr&gt;</th><th scope=col>&lt;chr&gt;</th></tr>\n",
              "</thead>\n",
              "<tbody>\n",
              "\t<tr><td>Cliente                   </td><td>ID do cliente                                                   </td><td>Qualitativa </td><td>Ordinal        </td><td>1, 2, 3, 4, 5, 6, 7, 8, 9, 10, 11, 12, 13, 14, 15, 16, 17, 18, 19, 20, 21, 22, 23, 24, 25, 26, 27, 28, 29, 30, 31, 32, 33, 34, 35, 36, 37, 38, 39, 40, 41, 42, 43, 44, 45, 46, 47, 48, 49, 50, 51, 52, 53, 54, 55, 56, 57, 58, 59, 60, 61, 62, 63, 64, 65, 66, 67, 68, 69, 70, 71, 72, 73, 74, 75, 76, 77, 78, 79, 80, 81, 82, 83, 84, 85, 86, 87, 88, 89, 90, 91, 92, 93, 94, 95, 96, 97, 98, 99, 100                                                    </td></tr>\n",
              "\t<tr><td>Tipo de Cliente           </td><td>Tipo de cliente                                                 </td><td>Qualitativa </td><td>Nominal        </td><td>Regular, Promocional                                                                                                                                                                                                                                                                                                                                                                                                                                      </td></tr>\n",
              "\t<tr><td><span style=white-space:pre-wrap>Itens                     </span></td><td><span style=white-space:pre-wrap>O n&lt;U+00FA&gt;mero total de itens comprados                        </span></td><td>Quantitativa</td><td><span style=white-space:pre-wrap>Discreta       </span></td><td><span style=white-space:pre-wrap>1, 5, 2, 9, 3, 6, 4, 7, 13, 8, 17, 10                                                                                                                                                                                                                                                                                                                                                                                                                     </span></td></tr>\n",
              "\t<tr><td><span style=white-space:pre-wrap>Vendas l&lt;U+00ED&gt;quidas    </span></td><td>A quantia total ($) cobrada pelo cart&lt;U+00E3&gt;o de cr&lt;U+00E9&gt;dito</td><td>Quantitativa</td><td>Cont&lt;U+00ED&gt;nua</td><td>395, 1024, 225, 1004, 54, 445, 78, 5652, 295, 316, 1604, 645, 495, 714, 94, 545, 385, 448, 7082, 266, 74, 3002, 1928, 712, 18, 632, 75, 40, 1055, 1025, 1175, 1323, 525, 1988, 195, 1235, 624, 238, 396, 25, 6364, 1482, 1452, 17662, 1188, 58, 1416, 1231, 804, 652, 113, 1088, 5991, 536, 595, 1468, 472, 9505, 15532, 69, 465, 4522, 8474, 39, 11114, 868, 89, 532, 585, 46, 375, 208, 144, 107, 576, 952, 2242, 15975, 2295, 66, 253, 28759, 476, 2844</td></tr>\n",
              "\t<tr><td>M&lt;U+00E9&gt;todo de Pagamento</td><td><span style=white-space:pre-wrap>M&lt;U+00E9&gt;todo de pagamento utilizado na compra                  </span></td><td>Qualitativa </td><td><span style=white-space:pre-wrap>Nominal        </span></td><td><span style=white-space:pre-wrap>Discover, Cart&lt;U+00E3&gt;o Propriet&lt;U+00E1&gt;rio, MasterCard, Visa, American Express                                                                                                                                                                                                                                                                                                                                                                           </span></td></tr>\n",
              "\t<tr><td><span style=white-space:pre-wrap>G&lt;U+00EA&gt;nero             </span></td><td><span style=white-space:pre-wrap>Gen&lt;U+00EA&gt;ro do cliente                                        </span></td><td>Qualitativa </td><td><span style=white-space:pre-wrap>Nominal        </span></td><td><span style=white-space:pre-wrap>Masculino, Feminino                                                                                                                                                                                                                                                                                                                                                                                                                                       </span></td></tr>\n",
              "\t<tr><td>Estado Civil              </td><td>Estado civil do cliente                                         </td><td>Qualitativa </td><td>Nominal        </td><td>Casado, Solteiro                                                                                                                                                                                                                                                                                                                                                                                                                                          </td></tr>\n",
              "\t<tr><td>Idade                     </td><td>Idade do cliente                                                </td><td>Quantitativa</td><td>Discreta       </td><td>32, 36, 28, 34, 44, 30, 40, 46, 48, 24, 22, 56, 38, 50, 42, 60, 54, 70, 52, 58, 68, 78, 20, 62, 74, 72                                                                                                                                                                                                                                                                                                                                                    </td></tr>\n",
              "</tbody>\n",
              "</table>\n"
            ],
            "text/latex": [
              "A data.frame: 8 × 5\n",
              "\\begin{tabular}{lllll}\n",
              " Nome da Vari<U+00E1>vel & Descri<U+00E7><U+00E3>o & Tipo de Vari<U+00E1>vel & Tipo de Mensura<U+00E7><U+00E3>o & Valores Poss<U+00ED>veis\\\\\n",
              " <chr> & <chr> & <chr> & <chr> & <chr>\\\\\n",
              "\\hline\n",
              "\t Cliente                    & ID do cliente                                                    & Qualitativa  & Ordinal         & 1, 2, 3, 4, 5, 6, 7, 8, 9, 10, 11, 12, 13, 14, 15, 16, 17, 18, 19, 20, 21, 22, 23, 24, 25, 26, 27, 28, 29, 30, 31, 32, 33, 34, 35, 36, 37, 38, 39, 40, 41, 42, 43, 44, 45, 46, 47, 48, 49, 50, 51, 52, 53, 54, 55, 56, 57, 58, 59, 60, 61, 62, 63, 64, 65, 66, 67, 68, 69, 70, 71, 72, 73, 74, 75, 76, 77, 78, 79, 80, 81, 82, 83, 84, 85, 86, 87, 88, 89, 90, 91, 92, 93, 94, 95, 96, 97, 98, 99, 100                                                    \\\\\n",
              "\t Tipo de Cliente            & Tipo de cliente                                                  & Qualitativa  & Nominal         & Regular, Promocional                                                                                                                                                                                                                                                                                                                                                                                                                                      \\\\\n",
              "\t Itens                      & O n<U+00FA>mero total de itens comprados                         & Quantitativa & Discreta        & 1, 5, 2, 9, 3, 6, 4, 7, 13, 8, 17, 10                                                                                                                                                                                                                                                                                                                                                                                                                     \\\\\n",
              "\t Vendas l<U+00ED>quidas     & A quantia total (\\$) cobrada pelo cart<U+00E3>o de cr<U+00E9>dito & Quantitativa & Cont<U+00ED>nua & 395, 1024, 225, 1004, 54, 445, 78, 5652, 295, 316, 1604, 645, 495, 714, 94, 545, 385, 448, 7082, 266, 74, 3002, 1928, 712, 18, 632, 75, 40, 1055, 1025, 1175, 1323, 525, 1988, 195, 1235, 624, 238, 396, 25, 6364, 1482, 1452, 17662, 1188, 58, 1416, 1231, 804, 652, 113, 1088, 5991, 536, 595, 1468, 472, 9505, 15532, 69, 465, 4522, 8474, 39, 11114, 868, 89, 532, 585, 46, 375, 208, 144, 107, 576, 952, 2242, 15975, 2295, 66, 253, 28759, 476, 2844\\\\\n",
              "\t M<U+00E9>todo de Pagamento & M<U+00E9>todo de pagamento utilizado na compra                   & Qualitativa  & Nominal         & Discover, Cart<U+00E3>o Propriet<U+00E1>rio, MasterCard, Visa, American Express                                                                                                                                                                                                                                                                                                                                                                           \\\\\n",
              "\t G<U+00EA>nero              & Gen<U+00EA>ro do cliente                                         & Qualitativa  & Nominal         & Masculino, Feminino                                                                                                                                                                                                                                                                                                                                                                                                                                       \\\\\n",
              "\t Estado Civil               & Estado civil do cliente                                          & Qualitativa  & Nominal         & Casado, Solteiro                                                                                                                                                                                                                                                                                                                                                                                                                                          \\\\\n",
              "\t Idade                      & Idade do cliente                                                 & Quantitativa & Discreta        & 32, 36, 28, 34, 44, 30, 40, 46, 48, 24, 22, 56, 38, 50, 42, 60, 54, 70, 52, 58, 68, 78, 20, 62, 74, 72                                                                                                                                                                                                                                                                                                                                                    \\\\\n",
              "\\end{tabular}\n"
            ],
            "text/markdown": [
              "\n",
              "A data.frame: 8 × 5\n",
              "\n",
              "| Nome da Vari&lt;U+00E1&gt;vel &lt;chr&gt; | Descri&lt;U+00E7&gt;&lt;U+00E3&gt;o &lt;chr&gt; | Tipo de Vari&lt;U+00E1&gt;vel &lt;chr&gt; | Tipo de Mensura&lt;U+00E7&gt;&lt;U+00E3&gt;o &lt;chr&gt; | Valores Poss&lt;U+00ED&gt;veis &lt;chr&gt; |\n",
              "|---|---|---|---|---|\n",
              "| Cliente                    | ID do cliente                                                    | Qualitativa  | Ordinal         | 1, 2, 3, 4, 5, 6, 7, 8, 9, 10, 11, 12, 13, 14, 15, 16, 17, 18, 19, 20, 21, 22, 23, 24, 25, 26, 27, 28, 29, 30, 31, 32, 33, 34, 35, 36, 37, 38, 39, 40, 41, 42, 43, 44, 45, 46, 47, 48, 49, 50, 51, 52, 53, 54, 55, 56, 57, 58, 59, 60, 61, 62, 63, 64, 65, 66, 67, 68, 69, 70, 71, 72, 73, 74, 75, 76, 77, 78, 79, 80, 81, 82, 83, 84, 85, 86, 87, 88, 89, 90, 91, 92, 93, 94, 95, 96, 97, 98, 99, 100                                                     |\n",
              "| Tipo de Cliente            | Tipo de cliente                                                  | Qualitativa  | Nominal         | Regular, Promocional                                                                                                                                                                                                                                                                                                                                                                                                                                       |\n",
              "| Itens                      | O n&lt;U+00FA&gt;mero total de itens comprados                         | Quantitativa | Discreta        | 1, 5, 2, 9, 3, 6, 4, 7, 13, 8, 17, 10                                                                                                                                                                                                                                                                                                                                                                                                                      |\n",
              "| Vendas l&lt;U+00ED&gt;quidas     | A quantia total ($) cobrada pelo cart&lt;U+00E3&gt;o de cr&lt;U+00E9&gt;dito | Quantitativa | Cont&lt;U+00ED&gt;nua | 395, 1024, 225, 1004, 54, 445, 78, 5652, 295, 316, 1604, 645, 495, 714, 94, 545, 385, 448, 7082, 266, 74, 3002, 1928, 712, 18, 632, 75, 40, 1055, 1025, 1175, 1323, 525, 1988, 195, 1235, 624, 238, 396, 25, 6364, 1482, 1452, 17662, 1188, 58, 1416, 1231, 804, 652, 113, 1088, 5991, 536, 595, 1468, 472, 9505, 15532, 69, 465, 4522, 8474, 39, 11114, 868, 89, 532, 585, 46, 375, 208, 144, 107, 576, 952, 2242, 15975, 2295, 66, 253, 28759, 476, 2844 |\n",
              "| M&lt;U+00E9&gt;todo de Pagamento | M&lt;U+00E9&gt;todo de pagamento utilizado na compra                   | Qualitativa  | Nominal         | Discover, Cart&lt;U+00E3&gt;o Propriet&lt;U+00E1&gt;rio, MasterCard, Visa, American Express                                                                                                                                                                                                                                                                                                                                                                            |\n",
              "| G&lt;U+00EA&gt;nero              | Gen&lt;U+00EA&gt;ro do cliente                                         | Qualitativa  | Nominal         | Masculino, Feminino                                                                                                                                                                                                                                                                                                                                                                                                                                        |\n",
              "| Estado Civil               | Estado civil do cliente                                          | Qualitativa  | Nominal         | Casado, Solteiro                                                                                                                                                                                                                                                                                                                                                                                                                                           |\n",
              "| Idade                      | Idade do cliente                                                 | Quantitativa | Discreta        | 32, 36, 28, 34, 44, 30, 40, 46, 48, 24, 22, 56, 38, 50, 42, 60, 54, 70, 52, 58, 68, 78, 20, 62, 74, 72                                                                                                                                                                                                                                                                                                                                                     |\n",
              "\n"
            ],
            "text/plain": [
              "  Nome da Vari<U+00E1>vel   \n",
              "1 Cliente                   \n",
              "2 Tipo de Cliente           \n",
              "3 Itens                     \n",
              "4 Vendas l<U+00ED>quidas    \n",
              "5 M<U+00E9>todo de Pagamento\n",
              "6 G<U+00EA>nero             \n",
              "7 Estado Civil              \n",
              "8 Idade                     \n",
              "  Descri<U+00E7><U+00E3>o                                         \n",
              "1 ID do cliente                                                   \n",
              "2 Tipo de cliente                                                 \n",
              "3 O n<U+00FA>mero total de itens comprados                        \n",
              "4 A quantia total ($) cobrada pelo cart<U+00E3>o de cr<U+00E9>dito\n",
              "5 M<U+00E9>todo de pagamento utilizado na compra                  \n",
              "6 Gen<U+00EA>ro do cliente                                        \n",
              "7 Estado civil do cliente                                         \n",
              "8 Idade do cliente                                                \n",
              "  Tipo de Vari<U+00E1>vel Tipo de Mensura<U+00E7><U+00E3>o\n",
              "1 Qualitativa             Ordinal                         \n",
              "2 Qualitativa             Nominal                         \n",
              "3 Quantitativa            Discreta                        \n",
              "4 Quantitativa            Cont<U+00ED>nua                 \n",
              "5 Qualitativa             Nominal                         \n",
              "6 Qualitativa             Nominal                         \n",
              "7 Qualitativa             Nominal                         \n",
              "8 Quantitativa            Discreta                        \n",
              "  Valores Poss<U+00ED>veis                                                                                                                                                                                                                                                                                                                                                                                                                                  \n",
              "1 1, 2, 3, 4, 5, 6, 7, 8, 9, 10, 11, 12, 13, 14, 15, 16, 17, 18, 19, 20, 21, 22, 23, 24, 25, 26, 27, 28, 29, 30, 31, 32, 33, 34, 35, 36, 37, 38, 39, 40, 41, 42, 43, 44, 45, 46, 47, 48, 49, 50, 51, 52, 53, 54, 55, 56, 57, 58, 59, 60, 61, 62, 63, 64, 65, 66, 67, 68, 69, 70, 71, 72, 73, 74, 75, 76, 77, 78, 79, 80, 81, 82, 83, 84, 85, 86, 87, 88, 89, 90, 91, 92, 93, 94, 95, 96, 97, 98, 99, 100                                                    \n",
              "2 Regular, Promocional                                                                                                                                                                                                                                                                                                                                                                                                                                      \n",
              "3 1, 5, 2, 9, 3, 6, 4, 7, 13, 8, 17, 10                                                                                                                                                                                                                                                                                                                                                                                                                     \n",
              "4 395, 1024, 225, 1004, 54, 445, 78, 5652, 295, 316, 1604, 645, 495, 714, 94, 545, 385, 448, 7082, 266, 74, 3002, 1928, 712, 18, 632, 75, 40, 1055, 1025, 1175, 1323, 525, 1988, 195, 1235, 624, 238, 396, 25, 6364, 1482, 1452, 17662, 1188, 58, 1416, 1231, 804, 652, 113, 1088, 5991, 536, 595, 1468, 472, 9505, 15532, 69, 465, 4522, 8474, 39, 11114, 868, 89, 532, 585, 46, 375, 208, 144, 107, 576, 952, 2242, 15975, 2295, 66, 253, 28759, 476, 2844\n",
              "5 Discover, Cart<U+00E3>o Propriet<U+00E1>rio, MasterCard, Visa, American Express                                                                                                                                                                                                                                                                                                                                                                           \n",
              "6 Masculino, Feminino                                                                                                                                                                                                                                                                                                                                                                                                                                       \n",
              "7 Casado, Solteiro                                                                                                                                                                                                                                                                                                                                                                                                                                          \n",
              "8 32, 36, 28, 34, 44, 30, 40, 46, 48, 24, 22, 56, 38, 50, 42, 60, 54, 70, 52, 58, 68, 78, 20, 62, 74, 72                                                                                                                                                                                                                                                                                                                                                    "
            ]
          },
          "metadata": {},
          "output_type": "display_data"
        }
      ],
      "source": [
        "# Cria a primeira versão do dicionário de dados\n",
        "\n",
        "nome_variavel <- names(pelicanstores)\n",
        "descricao <- c(\"ID do cliente\", \n",
        "               \"Tipo de cliente\", \n",
        "               \"O número total de itens comprados\", \n",
        "               \"A quantia total ($) cobrada pelo cartão de crédito\", \n",
        "               \"Método de pagamento utilizado na compra\", \n",
        "               \"Genêro do cliente\", \n",
        "               \"Estado civil do cliente\", \n",
        "               \"Idade do cliente\")\n",
        "tipo_variavel <- c(\"Qualitativa\", \n",
        "                     \"Qualitativa\", \n",
        "                     \"Quantitativa\", \n",
        "                     \"Quantitativa\", \n",
        "                     \"Qualitativa\", \n",
        "                     \"Qualitativa\", \n",
        "                     \"Qualitativa\", \n",
        "                     \"Quantitativa\")\n",
        "tipo_mensuracao <- c(\"Ordinal\", \n",
        "                     \"Nominal\", \n",
        "                     \"Discreta\", \n",
        "                     \"Contínua\", \n",
        "                     \"Nominal\", \n",
        "                     \"Nominal\", \n",
        "                     \"Nominal\", \n",
        "                     \"Discreta\")\n",
        "valores_possiveis <- unique_values(pelicanstores)\n",
        "\n",
        "df_dict <- data.frame(nome_variavel, descricao, tipo_variavel, tipo_mensuracao, valores_possiveis,row.names = NULL)\n",
        "\n",
        "colnames(df_dict) <- c(\"Nome da Variável\", \n",
        "                       \"Descrição\", \n",
        "                       \"Tipo de Variável\",\n",
        "                       \"Tipo de Mensuração\", \n",
        "                       \"Valores Possíveis\")\n",
        "df_dict"
      ]
    },
    {
      "cell_type": "markdown",
      "metadata": {},
      "source": [
        "### Estatística Descritiva"
      ]
    },
    {
      "cell_type": "markdown",
      "metadata": {},
      "source": [
        "É necessário apresentar as Medidas de Posição (média, mediana) e Variabilidade (desvio padrão e variância) das variáveis numéricas: Itens, Vendas Líquidas e Idade.\n",
        "\n",
        "Moda – O R não tem uma função para o cálculo da moda, então criamos uma função específica para isso, lembrando que a moda se aplica a variáveis numéricas discretas e variáveis categóricas. Para variáveis contínuas não faz sentido o cálculo da moda, já que tais variáveis podem assumir quaisquer valores no conjunto dos números reais."
      ]
    },
    {
      "cell_type": "markdown",
      "metadata": {},
      "source": [
        "[![Foo](../assets/img_3.png)]"
      ]
    },
    {
      "cell_type": "markdown",
      "metadata": {},
      "source": [
        "Moda para as variáveis categóricas, explicitamente, utilizando nossa função definida acima."
      ]
    },
    {
      "cell_type": "code",
      "execution_count": 12,
      "metadata": {
        "vscode": {
          "languageId": "r"
        }
      },
      "outputs": [
        {
          "ename": "ERROR",
          "evalue": "Error in parse(text = x, srcfile = src): <text>:3:92: '>' inesperado\n2: \n3: df_medias <- data.frame(variaveis = c(\"Itens\", \"Vendas l<U+00ED>quidas\", \"Idade\"), M<U+00E9>\n                                                                                              ^\n",
          "output_type": "error",
          "traceback": [
            "Error in parse(text = x, srcfile = src): <text>:3:92: '>' inesperado\n2: \n3: df_medias <- data.frame(variaveis = c(\"Itens\", \"Vendas l<U+00ED>quidas\", \"Idade\"), M<U+00E9>\n                                                                                              ^\nTraceback:\n"
          ]
        }
      ],
      "source": [
        "# Cria o data frame com os dados de média, mediana, desvio padrão e variância\n",
        "\n",
        "df_medias <- data.frame(variaveis = c(\"Itens\", \"Vendas líquidas\", \"Idade\"), Média = apply(pelicanstores[,c(\"Itens\", \"Vendas líquidas\", \"Idade\")], 2, mean))\n",
        "df_medianas <- data.frame(variaveis = c(\"Itens\", \"Vendas líquidas\", \"Idade\"), Mediana = apply(pelicanstores[,c(\"Itens\", \"Vendas líquidas\", \"Idade\")], 2, median))\n",
        "df_sd <- data.frame(variaveis = c(\"Itens\", \"Vendas líquidas\", \"Idade\"), DesvPadrao = apply(pelicanstores[,c(\"Itens\", \"Vendas líquidas\", \"Idade\")], 2, sd))\n",
        "df_var <- data.frame(variaveis = c(\"Itens\", \"Vendas líquidas\", \"Idade\"), Variancia = apply(pelicanstores[,c(\"Itens\", \"Vendas líquidas\", \"Idade\")], 2, var))\n",
        "\n",
        "df_1 <- left_join(df_medias,df_medianas, by =\"variaveis\")\n",
        "df_2 <- left_join(df_1, df_sd, by = \"variaveis\")\n",
        "df_3 <- left_join(df_2, df_var, by = \"variaveis\")\n",
        "\n",
        "df_3"
      ]
    },
    {
      "cell_type": "code",
      "execution_count": 13,
      "metadata": {
        "vscode": {
          "languageId": "r"
        }
      },
      "outputs": [],
      "source": [
        "# Função responsável por identificar a moda\n",
        "\n",
        "getmode <- function(v) {\n",
        "  uniqv <- unique(v)\n",
        "  uniqv[which.max(tabulate(match(v, uniqv)))]\n",
        "}"
      ]
    },
    {
      "cell_type": "code",
      "execution_count": 14,
      "metadata": {
        "vscode": {
          "languageId": "r"
        }
      },
      "outputs": [
        {
          "ename": "ERROR",
          "evalue": "Error in eval(expr, envir, enclos): objeto 'r' n~ao encontrado\n",
          "output_type": "error",
          "traceback": [
            "Error in eval(expr, envir, enclos): objeto 'r' n~ao encontrado\nTraceback:\n"
          ]
        }
      ],
      "source": [
        "{r}\n",
        "# Cria o data frame com os dados de moda\n",
        "\n",
        "table(pelicanstores[, \"Tipo de Cliente\"])\n",
        "table(pelicanstores[, \"Método de Pagamento\"])\n",
        "table(pelicanstores[, \"Gênero\"])\n",
        "table(pelicanstores[, \"Estado Civil\"])\n",
        "\n",
        "df_modacat <- data.frame(variaveis = c(\"Tipo de Cliente\", \"Método de Pagamento\", \"Gênero\", \"Estado Civil\"), Moda = apply(pelicanstores[,c(\"Tipo de Cliente\", \"Método de Pagamento\", \"Gênero\", \"Estado Civil\")], 2, getmode), row.names = NULL)\n",
        "\n",
        "df_3\n",
        "df_modacat"
      ]
    },
    {
      "cell_type": "code",
      "execution_count": null,
      "metadata": {
        "vscode": {
          "languageId": "r"
        }
      },
      "outputs": [],
      "source": [
        "# Cria a versão final do dicionário de dados, fazendo a junção dos três data frames\n",
        "\n",
        "colnames(df_3) <- c(\"Nome da Variável\", \n",
        "                       \"Média\", \n",
        "                       \"Mediana\",\n",
        "                       \"DesvPadrao\", \n",
        "                       \"Variancia\")\n",
        "\n",
        "colnames(df_modacat) <- c(\"Nome da Variável\", \n",
        "                       \"Moda\")\n",
        "\n",
        "df_dict_final <- left_join(df_dict,df_3, by =\"Nome da Variável\")\n",
        "df_dict_final <- left_join(df_dict_final,df_modacat, by =\"Nome da Variável\")\n",
        "df_dict_final"
      ]
    }
  ],
  "metadata": {
    "colab": {
      "name": "Trilha7_ExercicioAprofundamento.ipynb",
      "provenance": []
    },
    "kernelspec": {
      "display_name": "R",
      "language": "R",
      "name": "ir"
    },
    "language_info": {
      "codemirror_mode": "r",
      "file_extension": ".r",
      "mimetype": "text/x-r-source",
      "name": "R",
      "pygments_lexer": "r",
      "version": "4.1.2"
    }
  },
  "nbformat": 4,
  "nbformat_minor": 0
}
